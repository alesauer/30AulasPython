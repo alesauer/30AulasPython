{
 "cells": [
  {
   "cell_type": "markdown",
   "metadata": {},
   "source": [
    "# Aula 01 - Introdução ao Python\n",
    "\n",
    "Nesta primeira aula, vamos aprender sobre o comando básico `print`, que é usado para exibir informações na tela.\n",
    "Lembrando que os comandos são executados da primeira linha até a última."
   ]
  },
  {
   "cell_type": "markdown",
   "metadata": {},
   "source": [
    "## Imprimindo strings\n",
    "\n",
    "Strings são sequências de caracteres que podem ser impressas usando o comando `print`. Podemos usar tanto aspas simples (') quanto aspas duplas (\") para definir uma string."
   ]
  },
  {
   "cell_type": "code",
   "execution_count": null,
   "metadata": {},
   "outputs": [],
   "source": [
    "# Exemplo com aspas simples\n",
    "print('Olá, mundo!')\n",
    "\n",
    "# Exemplo com aspas duplas\n",
    "print(\"Bem-vindo ao curso de Python!\")"
   ]
  },
  {
   "cell_type": "markdown",
   "metadata": {},
   "source": [
    "## Operações aritméticas dentro do print\n",
    "\n",
    "Podemos realizar operações matemáticas diretamente dentro do comando `print`. O Python calculará o resultado e exibirá na tela.\n",
    "Não é necessário adicionar aspas em operações aritméticas"
   ]
  },
  {
   "cell_type": "code",
   "execution_count": 1,
   "metadata": {},
   "outputs": [
    {
     "name": "stdout",
     "output_type": "stream",
     "text": [
      "5\n",
      "20\n",
      "9.0\n"
     ]
    }
   ],
   "source": [
    "# Soma\n",
    "print(2 + 3)\n",
    "\n",
    "# Multiplicação\n",
    "print(4 * 5)\n",
    "\n",
    "# Expressão mais complexa\n",
    "print((10 + 2) * 3 / 4)"
   ]
  }
 ],
 "metadata": {
  "kernelspec": {
   "display_name": "Python 3",
   "language": "python",
   "name": "python3"
  },
  "language_info": {
   "codemirror_mode": {
    "name": "ipython",
    "version": 3
   },
   "file_extension": ".py",
   "mimetype": "text/x-python",
   "name": "python",
   "nbconvert_exporter": "python",
   "pygments_lexer": "ipython3",
   "version": "3.12.1"
  }
 },
 "nbformat": 4,
 "nbformat_minor": 2
}
